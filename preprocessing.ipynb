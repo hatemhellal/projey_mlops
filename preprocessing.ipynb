{
 "cells": [
  {
   "cell_type": "code",
   "execution_count": 1,
   "metadata": {},
   "outputs": [],
   "source": [
    "import numpy as np\n",
    "import pandas as pd\n",
    "import matplotlib.pyplot as plt\n",
    "import seaborn as sns\n",
    "%matplotlib inline"
   ]
  },
  {
   "cell_type": "code",
   "execution_count": 2,
   "metadata": {},
   "outputs": [],
   "source": [
    "import os\n",
    "os.environ['MLFLOW_TRACKING_USERNAME']='hatemhellal'\n",
    "os.environ[\"MLFLOW_TRACKING_PASSWORD\"]=\"fb488a04e3aeea8a886af3ee695779672de939ea\""
   ]
  },
  {
   "cell_type": "code",
   "execution_count": 3,
   "metadata": {},
   "outputs": [],
   "source": [
    "train = pd.read_csv('./fraudTrain.csv')"
   ]
  },
  {
   "cell_type": "code",
   "execution_count": 4,
   "metadata": {},
   "outputs": [
    {
     "data": {
      "text/plain": [
       "1296675"
      ]
     },
     "execution_count": 4,
     "metadata": {},
     "output_type": "execute_result"
    }
   ],
   "source": [
    "len(train)"
   ]
  },
  {
   "cell_type": "code",
   "execution_count": 5,
   "metadata": {},
   "outputs": [],
   "source": [
    "train_100k=train.iloc[:100000,:]"
   ]
  },
  {
   "cell_type": "code",
   "execution_count": 6,
   "metadata": {},
   "outputs": [],
   "source": [
    "#train_100k.to_csv(r\"C:\\\\Users\\\\hatem\\\\OneDrive\\\\Desktop\\\\3idsd-id\\\\mlops\\\\data\\\\train_100k.csv\",index=False)"
   ]
  },
  {
   "cell_type": "code",
   "execution_count": 7,
   "metadata": {},
   "outputs": [],
   "source": [
    "df=pd.read_csv(\".\\\\train_100k.csv\")"
   ]
  },
  {
   "cell_type": "code",
   "execution_count": 8,
   "metadata": {},
   "outputs": [],
   "source": [
    "df['trans_date_trans_time']=pd.to_datetime(df['trans_date_trans_time'])\n",
    "df['trans_date']=df['trans_date_trans_time'].dt.strftime('%Y-%m-%d')\n",
    "df['trans_date']=pd.to_datetime(df['trans_date'])\n",
    "df['dob']=pd.to_datetime(df['dob'])"
   ]
  },
  {
   "cell_type": "code",
   "execution_count": 9,
   "metadata": {},
   "outputs": [],
   "source": [
    "df.drop(\"Unnamed: 0\",axis=1,inplace=True)\n",
    "df.drop(['trans_date_trans_time','first', 'last', 'dob'] , axis=1, inplace=True)"
   ]
  },
  {
   "cell_type": "code",
   "execution_count": 10,
   "metadata": {},
   "outputs": [],
   "source": [
    "df['trans_month'] = pd.DatetimeIndex(df['trans_date']).month\n",
    "df['trans_year'] = pd.DatetimeIndex(df['trans_date']).year\n"
   ]
  },
  {
   "cell_type": "code",
   "execution_count": 11,
   "metadata": {},
   "outputs": [],
   "source": [
    "import calendar\n",
    "df['Month_name'] = df['trans_month'].apply(lambda x: calendar.month_abbr[x])"
   ]
  },
  {
   "cell_type": "code",
   "execution_count": 12,
   "metadata": {},
   "outputs": [],
   "source": [
    "l=[\"merchant\",\"category\",\"gender\",\"street\",\"city\",\"state\",\"job\",\"trans_num\",\"trans_date\",\"Month_name\"]\n",
    "df=df.drop(l,axis=1)"
   ]
  },
  {
   "cell_type": "code",
   "execution_count": 13,
   "metadata": {},
   "outputs": [
    {
     "name": "stderr",
     "output_type": "stream",
     "text": [
      "c:\\Users\\hatem\\anaconda3\\lib\\site-packages\\seaborn\\_decorators.py:36: FutureWarning: Pass the following variable as a keyword arg: x. From version 0.12, the only valid positional argument will be `data`, and passing other arguments without an explicit keyword will result in an error or misinterpretation.\n",
      "  warnings.warn(\n"
     ]
    },
    {
     "data": {
      "text/plain": [
       "Text(0.5, 1.0, ' not Fraud=0 fraud=1')"
      ]
     },
     "execution_count": 13,
     "metadata": {},
     "output_type": "execute_result"
    },
    {
     "data": {
      "image/png": "[encoded data removed]",
      "text/plain": [
       "<Figure size 432x288 with 1 Axes>"
      ]
     },
     "metadata": {
      "needs_background": "light"
     },
     "output_type": "display_data"
    }
   ],
   "source": [
    "from imblearn.under_sampling import RandomUnderSampler\n",
    "undersample = RandomUnderSampler(sampling_strategy=0.8)\n",
    "feature_columns = list(df.columns.drop('is_fraud'))\n",
    "X = df[feature_columns]\n",
    "y = df[\"is_fraud\"]\n",
    "X_balanced, Y_balanced = undersample.fit_resample(X, y)\n",
    "df_fraud = X_balanced \n",
    "df_fraud[\"is_fraud\"] = Y_balanced \n",
    "\n",
    "y_balance = pd.DataFrame(Y_balanced, columns =[\"is_fraud\"])\n",
    "sns.countplot('is_fraud', data=y_balance ) \n",
    "plt.title(' not Fraud=0 fraud=1', fontsize=11) \n"
   ]
  },
  {
   "cell_type": "code",
   "execution_count": 14,
   "metadata": {},
   "outputs": [],
   "source": [
    "from sklearn.preprocessing import MinMaxScaler\n",
    "from sklearn.model_selection import train_test_split\n",
    "def data_preprocess(dataframe):\n",
    "    dataframe=dataframe.dropna()\n",
    "    dataframe.fillna(dataframe.mean(),inplace=True)\n",
    "    dataframe=dataframe.reset_index()\n",
    "    minmaxscaler=MinMaxScaler()\n",
    "    dataframe.amt-=dataframe.amt.mean(axis=0)\n",
    "    dataframe.amt/=dataframe.amt.std(axis=0)\n",
    "    return dataframe\n",
    "\n"
   ]
  },
  {
   "cell_type": "code",
   "execution_count": 15,
   "metadata": {},
   "outputs": [],
   "source": [
    "def get_train_test(dataframe,feature_columns,target_column,train_test_split_ratio,random_seed):\n",
    "    X=dataframe[feature_columns]\n",
    "    y=dataframe[target_column]\n",
    "    X_train, X_test, y_train, y_test = train_test_split(X, y, train_size=train_test_split_ratio, random_state=random_seed)\n",
    "    return X_train, X_test, y_train, y_test\n"
   ]
  },
  {
   "cell_type": "code",
   "execution_count": 16,
   "metadata": {},
   "outputs": [],
   "source": [
    "config={\n",
    "    'feature_columns':feature_columns,\n",
    "    'target_column':[\"is_fraud\"],\n",
    "    'random_seed':42,\n",
    "    'train_test_split_ratio':0.8\n",
    "\n",
    "}"
   ]
  },
  {
   "cell_type": "code",
   "execution_count": 17,
   "metadata": {},
   "outputs": [
    {
     "data": {
      "text/html": [
       "<div>\n",
       "<style scoped>\n",
       "    .dataframe tbody tr th:only-of-type {\n",
       "        vertical-align: middle;\n",
       "    }\n",
       "\n",
       "    .dataframe tbody tr th {\n",
       "        vertical-align: top;\n",
       "    }\n",
       "\n",
       "    .dataframe thead th {\n",
       "        text-align: right;\n",
       "    }\n",
       "</style>\n",
       "<table border=\"1\" class=\"dataframe\">\n",
       "  <thead>\n",
       "    <tr style=\"text-align: right;\">\n",
       "      <th></th>\n",
       "      <th>cc_num</th>\n",
       "      <th>amt</th>\n",
       "      <th>zip</th>\n",
       "      <th>lat</th>\n",
       "      <th>long</th>\n",
       "      <th>city_pop</th>\n",
       "      <th>unix_time</th>\n",
       "      <th>merch_lat</th>\n",
       "      <th>merch_long</th>\n",
       "      <th>trans_month</th>\n",
       "      <th>trans_year</th>\n",
       "      <th>is_fraud</th>\n",
       "    </tr>\n",
       "  </thead>\n",
       "  <tbody>\n",
       "    <tr>\n",
       "      <th>0</th>\n",
       "      <td>372520049757633</td>\n",
       "      <td>71.87</td>\n",
       "      <td>56668</td>\n",
       "      <td>48.6031</td>\n",
       "      <td>-93.2977</td>\n",
       "      <td>136</td>\n",
       "      <td>1325954618</td>\n",
       "      <td>48.663678</td>\n",
       "      <td>-93.055988</td>\n",
       "      <td>1</td>\n",
       "      <td>2019</td>\n",
       "      <td>0</td>\n",
       "    </tr>\n",
       "    <tr>\n",
       "      <th>1</th>\n",
       "      <td>4810839835482793984</td>\n",
       "      <td>7.60</td>\n",
       "      <td>64874</td>\n",
       "      <td>36.7651</td>\n",
       "      <td>-94.0492</td>\n",
       "      <td>760</td>\n",
       "      <td>1329684274</td>\n",
       "      <td>37.152049</td>\n",
       "      <td>-94.715580</td>\n",
       "      <td>2</td>\n",
       "      <td>2019</td>\n",
       "      <td>0</td>\n",
       "    </tr>\n",
       "    <tr>\n",
       "      <th>2</th>\n",
       "      <td>6011360759745864</td>\n",
       "      <td>2.68</td>\n",
       "      <td>22824</td>\n",
       "      <td>38.8432</td>\n",
       "      <td>-78.6003</td>\n",
       "      <td>6018</td>\n",
       "      <td>1330282506</td>\n",
       "      <td>38.080189</td>\n",
       "      <td>-78.787689</td>\n",
       "      <td>2</td>\n",
       "      <td>2019</td>\n",
       "      <td>0</td>\n",
       "    </tr>\n",
       "    <tr>\n",
       "      <th>3</th>\n",
       "      <td>30518196150127</td>\n",
       "      <td>58.04</td>\n",
       "      <td>60963</td>\n",
       "      <td>40.3625</td>\n",
       "      <td>-87.6692</td>\n",
       "      <td>1807</td>\n",
       "      <td>1326310564</td>\n",
       "      <td>40.828580</td>\n",
       "      <td>-88.572775</td>\n",
       "      <td>1</td>\n",
       "      <td>2019</td>\n",
       "      <td>0</td>\n",
       "    </tr>\n",
       "    <tr>\n",
       "      <th>4</th>\n",
       "      <td>4294930380592</td>\n",
       "      <td>34.73</td>\n",
       "      <td>24070</td>\n",
       "      <td>37.3696</td>\n",
       "      <td>-80.1284</td>\n",
       "      <td>1363</td>\n",
       "      <td>1329927742</td>\n",
       "      <td>37.775142</td>\n",
       "      <td>-80.603287</td>\n",
       "      <td>2</td>\n",
       "      <td>2019</td>\n",
       "      <td>0</td>\n",
       "    </tr>\n",
       "    <tr>\n",
       "      <th>...</th>\n",
       "      <td>...</td>\n",
       "      <td>...</td>\n",
       "      <td>...</td>\n",
       "      <td>...</td>\n",
       "      <td>...</td>\n",
       "      <td>...</td>\n",
       "      <td>...</td>\n",
       "      <td>...</td>\n",
       "      <td>...</td>\n",
       "      <td>...</td>\n",
       "      <td>...</td>\n",
       "      <td>...</td>\n",
       "    </tr>\n",
       "    <tr>\n",
       "      <th>2222</th>\n",
       "      <td>4642894980163</td>\n",
       "      <td>779.79</td>\n",
       "      <td>51632</td>\n",
       "      <td>40.7491</td>\n",
       "      <td>-95.0380</td>\n",
       "      <td>7297</td>\n",
       "      <td>1330393370</td>\n",
       "      <td>40.177856</td>\n",
       "      <td>-94.103864</td>\n",
       "      <td>2</td>\n",
       "      <td>2019</td>\n",
       "      <td>1</td>\n",
       "    </tr>\n",
       "    <tr>\n",
       "      <th>2223</th>\n",
       "      <td>30074693890476</td>\n",
       "      <td>11.11</td>\n",
       "      <td>67851</td>\n",
       "      <td>37.9931</td>\n",
       "      <td>-100.9893</td>\n",
       "      <td>2691</td>\n",
       "      <td>1330397485</td>\n",
       "      <td>38.023713</td>\n",
       "      <td>-100.035305</td>\n",
       "      <td>2</td>\n",
       "      <td>2019</td>\n",
       "      <td>1</td>\n",
       "    </tr>\n",
       "    <tr>\n",
       "      <th>2224</th>\n",
       "      <td>630425673344</td>\n",
       "      <td>289.23</td>\n",
       "      <td>24927</td>\n",
       "      <td>38.3880</td>\n",
       "      <td>-79.9906</td>\n",
       "      <td>365</td>\n",
       "      <td>1330400469</td>\n",
       "      <td>38.943533</td>\n",
       "      <td>-79.546329</td>\n",
       "      <td>2</td>\n",
       "      <td>2019</td>\n",
       "      <td>1</td>\n",
       "    </tr>\n",
       "    <tr>\n",
       "      <th>2225</th>\n",
       "      <td>4642894980163</td>\n",
       "      <td>9.07</td>\n",
       "      <td>51632</td>\n",
       "      <td>40.7491</td>\n",
       "      <td>-95.0380</td>\n",
       "      <td>7297</td>\n",
       "      <td>1330402000</td>\n",
       "      <td>39.987059</td>\n",
       "      <td>-95.041018</td>\n",
       "      <td>2</td>\n",
       "      <td>2019</td>\n",
       "      <td>1</td>\n",
       "    </tr>\n",
       "    <tr>\n",
       "      <th>2226</th>\n",
       "      <td>30074693890476</td>\n",
       "      <td>21.29</td>\n",
       "      <td>67851</td>\n",
       "      <td>37.9931</td>\n",
       "      <td>-100.9893</td>\n",
       "      <td>2691</td>\n",
       "      <td>1330443299</td>\n",
       "      <td>38.970761</td>\n",
       "      <td>-100.185506</td>\n",
       "      <td>2</td>\n",
       "      <td>2019</td>\n",
       "      <td>1</td>\n",
       "    </tr>\n",
       "  </tbody>\n",
       "</table>\n",
       "<p>2227 rows × 12 columns</p>\n",
       "</div>"
      ],
      "text/plain": [
       "                   cc_num     amt    zip      lat      long  city_pop  \\\n",
       "0         372520049757633   71.87  56668  48.6031  -93.2977       136   \n",
       "1     4810839835482793984    7.60  64874  36.7651  -94.0492       760   \n",
       "2        6011360759745864    2.68  22824  38.8432  -78.6003      6018   \n",
       "3          30518196150127   58.04  60963  40.3625  -87.6692      1807   \n",
       "4           4294930380592   34.73  24070  37.3696  -80.1284      1363   \n",
       "...                   ...     ...    ...      ...       ...       ...   \n",
       "2222        4642894980163  779.79  51632  40.7491  -95.0380      7297   \n",
       "2223       30074693890476   11.11  67851  37.9931 -100.9893      2691   \n",
       "2224         630425673344  289.23  24927  38.3880  -79.9906       365   \n",
       "2225        4642894980163    9.07  51632  40.7491  -95.0380      7297   \n",
       "2226       30074693890476   21.29  67851  37.9931 -100.9893      2691   \n",
       "\n",
       "       unix_time  merch_lat  merch_long  trans_month  trans_year  is_fraud  \n",
       "0     1325954618  48.663678  -93.055988            1        2019         0  \n",
       "1     1329684274  37.152049  -94.715580            2        2019         0  \n",
       "2     1330282506  38.080189  -78.787689            2        2019         0  \n",
       "3     1326310564  40.828580  -88.572775            1        2019         0  \n",
       "4     1329927742  37.775142  -80.603287            2        2019         0  \n",
       "...          ...        ...         ...          ...         ...       ...  \n",
       "2222  1330393370  40.177856  -94.103864            2        2019         1  \n",
       "2223  1330397485  38.023713 -100.035305            2        2019         1  \n",
       "2224  1330400469  38.943533  -79.546329            2        2019         1  \n",
       "2225  1330402000  39.987059  -95.041018            2        2019         1  \n",
       "2226  1330443299  38.970761 -100.185506            2        2019         1  \n",
       "\n",
       "[2227 rows x 12 columns]"
      ]
     },
     "execution_count": 17,
     "metadata": {},
     "output_type": "execute_result"
    }
   ],
   "source": [
    "df_fraud"
   ]
  },
  {
   "cell_type": "code",
   "execution_count": 18,
   "metadata": {},
   "outputs": [],
   "source": [
    "df=df_fraud\n",
    "df=data_preprocess(df)\n",
    "X_train, X_test, y_train, y_test=get_train_test(df,config['feature_columns'],config['target_column'],config['train_test_split_ratio'],config['random_seed'])"
   ]
  },
  {
   "cell_type": "code",
   "execution_count": 19,
   "metadata": {},
   "outputs": [
    {
     "name": "stderr",
     "output_type": "stream",
     "text": [
      "C:\\Users\\hatem\\AppData\\Local\\Temp/ipykernel_10784/2905068467.py:6: DataConversionWarning: A column-vector y was passed when a 1d array was expected. Please change the shape of y to (n_samples,), for example using ravel().\n",
      "  clf.fit(X_train,y_train)\n",
      "C:\\Users\\hatem\\AppData\\Roaming\\Python\\Python39\\site-packages\\sklearn\\model_selection\\_validation.py:686: DataConversionWarning: A column-vector y was passed when a 1d array was expected. Please change the shape of y to (n_samples,), for example using ravel().\n",
      "  estimator.fit(X_train, y_train, **fit_params)\n",
      "C:\\Users\\hatem\\AppData\\Roaming\\Python\\Python39\\site-packages\\sklearn\\model_selection\\_validation.py:686: DataConversionWarning: A column-vector y was passed when a 1d array was expected. Please change the shape of y to (n_samples,), for example using ravel().\n",
      "  estimator.fit(X_train, y_train, **fit_params)\n",
      "C:\\Users\\hatem\\AppData\\Roaming\\Python\\Python39\\site-packages\\sklearn\\model_selection\\_validation.py:686: DataConversionWarning: A column-vector y was passed when a 1d array was expected. Please change the shape of y to (n_samples,), for example using ravel().\n",
      "  estimator.fit(X_train, y_train, **fit_params)\n",
      "C:\\Users\\hatem\\AppData\\Roaming\\Python\\Python39\\site-packages\\sklearn\\model_selection\\_validation.py:686: DataConversionWarning: A column-vector y was passed when a 1d array was expected. Please change the shape of y to (n_samples,), for example using ravel().\n",
      "  estimator.fit(X_train, y_train, **fit_params)\n",
      "C:\\Users\\hatem\\AppData\\Roaming\\Python\\Python39\\site-packages\\sklearn\\model_selection\\_validation.py:686: DataConversionWarning: A column-vector y was passed when a 1d array was expected. Please change the shape of y to (n_samples,), for example using ravel().\n",
      "  estimator.fit(X_train, y_train, **fit_params)\n"
     ]
    },
    {
     "name": "stdout",
     "output_type": "stream",
     "text": [
      "0.9309397916469958\n"
     ]
    }
   ],
   "source": [
    "import mlflow\n",
    "from sklearn.ensemble import RandomForestClassifier\n",
    "from sklearn.model_selection import cross_val_score\n",
    "#Create a Gaussian Classifier\n",
    "clf=RandomForestClassifier(n_estimators=100)\n",
    "clf.fit(X_train,y_train)\n",
    "accuracy= cross_val_score(clf, X_train, y_train).mean()\n",
    "print(accuracy)"
   ]
  },
  {
   "cell_type": "code",
   "execution_count": 20,
   "metadata": {},
   "outputs": [],
   "source": [
    "mlflow.sklearn.autolog(registered_model_name=\"RandomForest\")"
   ]
  },
  {
   "cell_type": "code",
   "execution_count": 23,
   "metadata": {},
   "outputs": [
    {
     "name": "stderr",
     "output_type": "stream",
     "text": [
      "2022/09/26 09:26:45 WARNING mlflow.utils.autologging_utils: MLflow autologging encountered a warning: \"c:\\Users\\hatem\\anaconda3\\lib\\site-packages\\mlflow\\utils\\autologging_utils\\safety.py:533: DataConversionWarning: A column-vector y was passed when a 1d array was expected. Please change the shape of y to (n_samples,), for example using ravel().\"\n",
      "2022/09/26 09:26:45 WARNING mlflow.utils.autologging_utils: MLflow autologging encountered a warning: \"c:\\Users\\hatem\\anaconda3\\lib\\site-packages\\mlflow\\models\\signature.py:129: UserWarning: Hint: Inferred schema contains integer column(s). Integer columns in Python cannot represent missing values. If your input data contains missing values at inference time, it will be encoded as floats and will cause a schema enforcement error. The best way to avoid this problem is to infer the model schema based on a realistic data sample (training dataset) that includes missing values. Alternatively, you can declare integer columns as doubles (float64) whenever these columns may have missing values. See `Handling Integers With Missing Values <https://www.mlflow.org/docs/latest/models.html#handling-integers-with-missing-values>`_ for more details.\"\n",
      "2022/09/26 09:26:48 WARNING mlflow.utils.autologging_utils: Encountered unexpected error during sklearn autologging: Model Registry features are not supported by the store with URI: 'file:///C:/Users/hatem/OneDrive/Desktop/3idsd-id/mlops/data/mlruns'. Stores with the following URI schemes are supported: ['databricks', 'http', 'https', 'postgresql', 'mysql', 'sqlite', 'mssql'].\n",
      "2022/09/26 09:26:48 WARNING mlflow.utils.autologging_utils: MLflow autologging encountered a warning: \"c:\\Users\\hatem\\anaconda3\\lib\\site-packages\\mlflow\\utils\\autologging_utils\\safety.py:533: DataConversionWarning: A column-vector y was passed when a 1d array was expected. Please change the shape of y to (n_samples,), for example using ravel().\"\n",
      "2022/09/26 09:26:48 WARNING mlflow.utils.autologging_utils: MLflow autologging encountered a warning: \"c:\\Users\\hatem\\anaconda3\\lib\\site-packages\\mlflow\\models\\signature.py:129: UserWarning: Hint: Inferred schema contains integer column(s). Integer columns in Python cannot represent missing values. If your input data contains missing values at inference time, it will be encoded as floats and will cause a schema enforcement error. The best way to avoid this problem is to infer the model schema based on a realistic data sample (training dataset) that includes missing values. Alternatively, you can declare integer columns as doubles (float64) whenever these columns may have missing values. See `Handling Integers With Missing Values <https://www.mlflow.org/docs/latest/models.html#handling-integers-with-missing-values>`_ for more details.\"\n",
      "2022/09/26 09:26:51 WARNING mlflow.utils.autologging_utils: Encountered unexpected error during sklearn autologging: Model Registry features are not supported by the store with URI: 'file:///C:/Users/hatem/OneDrive/Desktop/3idsd-id/mlops/data/mlruns'. Stores with the following URI schemes are supported: ['databricks', 'http', 'https', 'postgresql', 'mysql', 'sqlite', 'mssql'].\n",
      "2022/09/26 09:26:51 WARNING mlflow.utils.autologging_utils: MLflow autologging encountered a warning: \"c:\\Users\\hatem\\anaconda3\\lib\\site-packages\\mlflow\\utils\\autologging_utils\\safety.py:533: DataConversionWarning: A column-vector y was passed when a 1d array was expected. Please change the shape of y to (n_samples,), for example using ravel().\"\n",
      "2022/09/26 09:26:51 WARNING mlflow.utils.autologging_utils: MLflow autologging encountered a warning: \"c:\\Users\\hatem\\anaconda3\\lib\\site-packages\\mlflow\\models\\signature.py:129: UserWarning: Hint: Inferred schema contains integer column(s). Integer columns in Python cannot represent missing values. If your input data contains missing values at inference time, it will be encoded as floats and will cause a schema enforcement error. The best way to avoid this problem is to infer the model schema based on a realistic data sample (training dataset) that includes missing values. Alternatively, you can declare integer columns as doubles (float64) whenever these columns may have missing values. See `Handling Integers With Missing Values <https://www.mlflow.org/docs/latest/models.html#handling-integers-with-missing-values>`_ for more details.\"\n",
      "2022/09/26 09:26:53 WARNING mlflow.utils.autologging_utils: Encountered unexpected error during sklearn autologging: Model Registry features are not supported by the store with URI: 'file:///C:/Users/hatem/OneDrive/Desktop/3idsd-id/mlops/data/mlruns'. Stores with the following URI schemes are supported: ['databricks', 'http', 'https', 'postgresql', 'mysql', 'sqlite', 'mssql'].\n",
      "2022/09/26 09:26:53 WARNING mlflow.utils.autologging_utils: MLflow autologging encountered a warning: \"c:\\Users\\hatem\\anaconda3\\lib\\site-packages\\mlflow\\utils\\autologging_utils\\safety.py:533: DataConversionWarning: A column-vector y was passed when a 1d array was expected. Please change the shape of y to (n_samples,), for example using ravel().\"\n",
      "2022/09/26 09:26:54 WARNING mlflow.utils.autologging_utils: MLflow autologging encountered a warning: \"c:\\Users\\hatem\\anaconda3\\lib\\site-packages\\mlflow\\models\\signature.py:129: UserWarning: Hint: Inferred schema contains integer column(s). Integer columns in Python cannot represent missing values. If your input data contains missing values at inference time, it will be encoded as floats and will cause a schema enforcement error. The best way to avoid this problem is to infer the model schema based on a realistic data sample (training dataset) that includes missing values. Alternatively, you can declare integer columns as doubles (float64) whenever these columns may have missing values. See `Handling Integers With Missing Values <https://www.mlflow.org/docs/latest/models.html#handling-integers-with-missing-values>`_ for more details.\"\n",
      "2022/09/26 09:26:56 WARNING mlflow.utils.autologging_utils: Encountered unexpected error during sklearn autologging: Model Registry features are not supported by the store with URI: 'file:///C:/Users/hatem/OneDrive/Desktop/3idsd-id/mlops/data/mlruns'. Stores with the following URI schemes are supported: ['databricks', 'http', 'https', 'postgresql', 'mysql', 'sqlite', 'mssql'].\n",
      "2022/09/26 09:26:57 WARNING mlflow.utils.autologging_utils: MLflow autologging encountered a warning: \"c:\\Users\\hatem\\anaconda3\\lib\\site-packages\\mlflow\\utils\\autologging_utils\\safety.py:533: DataConversionWarning: A column-vector y was passed when a 1d array was expected. Please change the shape of y to (n_samples,), for example using ravel().\"\n",
      "2022/09/26 09:26:57 WARNING mlflow.utils.autologging_utils: MLflow autologging encountered a warning: \"c:\\Users\\hatem\\anaconda3\\lib\\site-packages\\mlflow\\models\\signature.py:129: UserWarning: Hint: Inferred schema contains integer column(s). Integer columns in Python cannot represent missing values. If your input data contains missing values at inference time, it will be encoded as floats and will cause a schema enforcement error. The best way to avoid this problem is to infer the model schema based on a realistic data sample (training dataset) that includes missing values. Alternatively, you can declare integer columns as doubles (float64) whenever these columns may have missing values. See `Handling Integers With Missing Values <https://www.mlflow.org/docs/latest/models.html#handling-integers-with-missing-values>`_ for more details.\"\n",
      "2022/09/26 09:26:59 WARNING mlflow.utils.autologging_utils: Encountered unexpected error during sklearn autologging: Model Registry features are not supported by the store with URI: 'file:///C:/Users/hatem/OneDrive/Desktop/3idsd-id/mlops/data/mlruns'. Stores with the following URI schemes are supported: ['databricks', 'http', 'https', 'postgresql', 'mysql', 'sqlite', 'mssql'].\n",
      "2022/09/26 09:26:59 WARNING mlflow.utils.autologging_utils: MLflow autologging encountered a warning: \"c:\\Users\\hatem\\anaconda3\\lib\\site-packages\\mlflow\\utils\\autologging_utils\\safety.py:533: DataConversionWarning: A column-vector y was passed when a 1d array was expected. Please change the shape of y to (n_samples,), for example using ravel().\"\n",
      "2022/09/26 09:27:00 WARNING mlflow.utils.autologging_utils: MLflow autologging encountered a warning: \"c:\\Users\\hatem\\anaconda3\\lib\\site-packages\\mlflow\\models\\signature.py:129: UserWarning: Hint: Inferred schema contains integer column(s). Integer columns in Python cannot represent missing values. If your input data contains missing values at inference time, it will be encoded as floats and will cause a schema enforcement error. The best way to avoid this problem is to infer the model schema based on a realistic data sample (training dataset) that includes missing values. Alternatively, you can declare integer columns as doubles (float64) whenever these columns may have missing values. See `Handling Integers With Missing Values <https://www.mlflow.org/docs/latest/models.html#handling-integers-with-missing-values>`_ for more details.\"\n",
      "2022/09/26 09:27:02 WARNING mlflow.utils.autologging_utils: Encountered unexpected error during sklearn autologging: Model Registry features are not supported by the store with URI: 'file:///C:/Users/hatem/OneDrive/Desktop/3idsd-id/mlops/data/mlruns'. Stores with the following URI schemes are supported: ['databricks', 'http', 'https', 'postgresql', 'mysql', 'sqlite', 'mssql'].\n"
     ]
    }
   ],
   "source": [
    "from sklearn.metrics import recall_score\n",
    "RUN_NAME='RandomForest'\n",
    "with mlflow.start_run(run_name=RUN_NAME):\n",
    "    clf=RandomForestClassifier(n_estimators=100)\n",
    "    clf.fit(X_train,y_train)\n",
    "    y_pred =clf.predict(X_test)\n",
    "    accuracy= cross_val_score(clf, X_train, y_train).mean()\n",
    "    recall=recall_score(y_test,y_pred)\n",
    "    mlflow.log_metric(\"accuracy\", accuracy)\n",
    "    mlflow.log_metric(\"recall\", recall)\n",
    "    "
   ]
  },
  {
   "cell_type": "code",
   "execution_count": null,
   "metadata": {},
   "outputs": [
    {
     "name": "stderr",
     "output_type": "stream",
     "text": [
      "2022/09/25 18:00:29 WARNING mlflow.utils.autologging_utils: MLflow autologging encountered a warning: \"c:\\Users\\hatem\\anaconda3\\lib\\site-packages\\mlflow\\utils\\autologging_utils\\safety.py:533: DataConversionWarning: A column-vector y was passed when a 1d array was expected. Please change the shape of y to (n_samples,), for example using ravel().\"\n",
      "2022/09/25 18:00:30 WARNING mlflow.utils.autologging_utils: MLflow autologging encountered a warning: \"c:\\Users\\hatem\\anaconda3\\lib\\site-packages\\mlflow\\models\\signature.py:129: UserWarning: Hint: Inferred schema contains integer column(s). Integer columns in Python cannot represent missing values. If your input data contains missing values at inference time, it will be encoded as floats and will cause a schema enforcement error. The best way to avoid this problem is to infer the model schema based on a realistic data sample (training dataset) that includes missing values. Alternatively, you can declare integer columns as doubles (float64) whenever these columns may have missing values. See `Handling Integers With Missing Values <https://www.mlflow.org/docs/latest/models.html#handling-integers-with-missing-values>`_ for more details.\"\n",
      "2022/09/25 18:00:32 WARNING mlflow.utils.autologging_utils: MLflow autologging encountered a warning: \"c:\\Users\\hatem\\anaconda3\\lib\\site-packages\\mlflow\\utils\\autologging_utils\\safety.py:533: DataConversionWarning: A column-vector y was passed when a 1d array was expected. Please change the shape of y to (n_samples,), for example using ravel().\"\n",
      "2022/09/25 18:00:33 WARNING mlflow.utils.autologging_utils: MLflow autologging encountered a warning: \"c:\\Users\\hatem\\anaconda3\\lib\\site-packages\\mlflow\\models\\signature.py:129: UserWarning: Hint: Inferred schema contains integer column(s). Integer columns in Python cannot represent missing values. If your input data contains missing values at inference time, it will be encoded as floats and will cause a schema enforcement error. The best way to avoid this problem is to infer the model schema based on a realistic data sample (training dataset) that includes missing values. Alternatively, you can declare integer columns as doubles (float64) whenever these columns may have missing values. See `Handling Integers With Missing Values <https://www.mlflow.org/docs/latest/models.html#handling-integers-with-missing-values>`_ for more details.\"\n",
      "2022/09/25 18:00:35 WARNING mlflow.utils.autologging_utils: MLflow autologging encountered a warning: \"c:\\Users\\hatem\\anaconda3\\lib\\site-packages\\mlflow\\utils\\autologging_utils\\safety.py:533: DataConversionWarning: A column-vector y was passed when a 1d array was expected. Please change the shape of y to (n_samples,), for example using ravel().\"\n",
      "2022/09/25 18:00:36 WARNING mlflow.utils.autologging_utils: MLflow autologging encountered a warning: \"c:\\Users\\hatem\\anaconda3\\lib\\site-packages\\mlflow\\models\\signature.py:129: UserWarning: Hint: Inferred schema contains integer column(s). Integer columns in Python cannot represent missing values. If your input data contains missing values at inference time, it will be encoded as floats and will cause a schema enforcement error. The best way to avoid this problem is to infer the model schema based on a realistic data sample (training dataset) that includes missing values. Alternatively, you can declare integer columns as doubles (float64) whenever these columns may have missing values. See `Handling Integers With Missing Values <https://www.mlflow.org/docs/latest/models.html#handling-integers-with-missing-values>`_ for more details.\"\n",
      "2022/09/25 18:00:38 WARNING mlflow.utils.autologging_utils: MLflow autologging encountered a warning: \"c:\\Users\\hatem\\anaconda3\\lib\\site-packages\\mlflow\\utils\\autologging_utils\\safety.py:533: DataConversionWarning: A column-vector y was passed when a 1d array was expected. Please change the shape of y to (n_samples,), for example using ravel().\"\n",
      "2022/09/25 18:00:39 WARNING mlflow.utils.autologging_utils: MLflow autologging encountered a warning: \"c:\\Users\\hatem\\anaconda3\\lib\\site-packages\\mlflow\\models\\signature.py:129: UserWarning: Hint: Inferred schema contains integer column(s). Integer columns in Python cannot represent missing values. If your input data contains missing values at inference time, it will be encoded as floats and will cause a schema enforcement error. The best way to avoid this problem is to infer the model schema based on a realistic data sample (training dataset) that includes missing values. Alternatively, you can declare integer columns as doubles (float64) whenever these columns may have missing values. See `Handling Integers With Missing Values <https://www.mlflow.org/docs/latest/models.html#handling-integers-with-missing-values>`_ for more details.\"\n",
      "2022/09/25 18:00:41 WARNING mlflow.utils.autologging_utils: MLflow autologging encountered a warning: \"c:\\Users\\hatem\\anaconda3\\lib\\site-packages\\mlflow\\utils\\autologging_utils\\safety.py:533: DataConversionWarning: A column-vector y was passed when a 1d array was expected. Please change the shape of y to (n_samples,), for example using ravel().\"\n",
      "2022/09/25 18:00:42 WARNING mlflow.utils.autologging_utils: MLflow autologging encountered a warning: \"c:\\Users\\hatem\\anaconda3\\lib\\site-packages\\mlflow\\models\\signature.py:129: UserWarning: Hint: Inferred schema contains integer column(s). Integer columns in Python cannot represent missing values. If your input data contains missing values at inference time, it will be encoded as floats and will cause a schema enforcement error. The best way to avoid this problem is to infer the model schema based on a realistic data sample (training dataset) that includes missing values. Alternatively, you can declare integer columns as doubles (float64) whenever these columns may have missing values. See `Handling Integers With Missing Values <https://www.mlflow.org/docs/latest/models.html#handling-integers-with-missing-values>`_ for more details.\"\n",
      "2022/09/25 18:00:44 WARNING mlflow.utils.autologging_utils: MLflow autologging encountered a warning: \"c:\\Users\\hatem\\anaconda3\\lib\\site-packages\\mlflow\\utils\\autologging_utils\\safety.py:533: DataConversionWarning: A column-vector y was passed when a 1d array was expected. Please change the shape of y to (n_samples,), for example using ravel().\"\n",
      "2022/09/25 18:00:45 WARNING mlflow.utils.autologging_utils: MLflow autologging encountered a warning: \"c:\\Users\\hatem\\anaconda3\\lib\\site-packages\\mlflow\\models\\signature.py:129: UserWarning: Hint: Inferred schema contains integer column(s). Integer columns in Python cannot represent missing values. If your input data contains missing values at inference time, it will be encoded as floats and will cause a schema enforcement error. The best way to avoid this problem is to infer the model schema based on a realistic data sample (training dataset) that includes missing values. Alternatively, you can declare integer columns as doubles (float64) whenever these columns may have missing values. See `Handling Integers With Missing Values <https://www.mlflow.org/docs/latest/models.html#handling-integers-with-missing-values>`_ for more details.\"\n"
     ]
    }
   ],
   "source": [
    "'''from sklearn.metrics import recall_score\n",
    "with mlflow.start_run():\n",
    "    clf=RandomForestClassifier(n_estimators=100)\n",
    "    clf.fit(X_train,y_train)\n",
    "    y_pred =clf.predict(X_test)\n",
    "    accuracy= cross_val_score(clf, X_train, y_train).mean()\n",
    "    recall=recall_score(y_test,y_pred)\n",
    "    mlflow.log_param(\"accuracy\", accuracy)\n",
    "    mlflow.log_param(\"recall\", recall)'''"
   ]
  }
 ],
 "metadata": {
  "kernelspec": {
   "display_name": "Python 3.9.7 ('base')",
   "language": "python",
   "name": "python3"
  },
  "language_info": {
   "codemirror_mode": {
    "name": "ipython",
    "version": 3
   },
   "file_extension": ".py",
   "mimetype": "text/x-python",
   "name": "python",
   "nbconvert_exporter": "python",
   "pygments_lexer": "ipython3",
   "version": "3.9.7"
  },
  "orig_nbformat": 4,
  "vscode": {
   "interpreter": {
    "hash": "3791dde1d4949b701f0b6ede0262b59d34e91e64728d47269e442f9a97e475b4"
   }
  }
 },
 "nbformat": 4,
 "nbformat_minor": 2
}
